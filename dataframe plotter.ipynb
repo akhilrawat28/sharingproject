{
 "cells": [
  {
   "cell_type": "code",
   "execution_count": 11,
   "metadata": {},
   "outputs": [],
   "source": [
    "import numpy as np\n",
    "import pandas as pd\n",
    "import chart_studio.plotly as pl\n",
    "import plotly.offline as  po\n",
    "import cufflinks as cf"
   ]
  },
  {
   "cell_type": "code",
   "execution_count": 12,
   "metadata": {},
   "outputs": [
    {
     "data": {
      "text/html": [
       "        <script type=\"text/javascript\">\n",
       "        window.PlotlyConfig = {MathJaxConfig: 'local'};\n",
       "        if (window.MathJax) {MathJax.Hub.Config({SVG: {font: \"STIX-Web\"}});}\n",
       "        if (typeof require !== 'undefined') {\n",
       "        require.undef(\"plotly\");\n",
       "        requirejs.config({\n",
       "            paths: {\n",
       "                'plotly': ['https://cdn.plot.ly/plotly-latest.min']\n",
       "            }\n",
       "        });\n",
       "        require(['plotly'], function(Plotly) {\n",
       "            window._Plotly = Plotly;\n",
       "        });\n",
       "        }\n",
       "        </script>\n",
       "        "
      ]
     },
     "metadata": {},
     "output_type": "display_data"
    },
    {
     "data": {
      "text/html": [
       "        <script type=\"text/javascript\">\n",
       "        window.PlotlyConfig = {MathJaxConfig: 'local'};\n",
       "        if (window.MathJax) {MathJax.Hub.Config({SVG: {font: \"STIX-Web\"}});}\n",
       "        if (typeof require !== 'undefined') {\n",
       "        require.undef(\"plotly\");\n",
       "        requirejs.config({\n",
       "            paths: {\n",
       "                'plotly': ['https://cdn.plot.ly/plotly-latest.min']\n",
       "            }\n",
       "        });\n",
       "        require(['plotly'], function(Plotly) {\n",
       "            window._Plotly = Plotly;\n",
       "        });\n",
       "        }\n",
       "        </script>\n",
       "        "
      ]
     },
     "metadata": {},
     "output_type": "display_data"
    }
   ],
   "source": [
    "po.init_notebook_mode(connected = True)\n",
    "cf.go_offline()"
   ]
  },
  {
   "cell_type": "code",
   "execution_count": 13,
   "metadata": {},
   "outputs": [],
   "source": [
    "def createdata(data):\n",
    "    if (data == 1):\n",
    "        x = np.random.rand(100,5)\n",
    "        df1 = pd.DataFrame(x, columns=[\"A\",\"B\",\"C\",\"D\",\"E\"])\n",
    "    elif(data == 2):\n",
    "        x = [0,0,0,0,0]\n",
    "        r1= [0,0,0,0,0]\n",
    "        r2= [0,0,0,0,0]\n",
    "        r3= [0,0,0,0,0]\n",
    "        r4= [0,0,0,0,0]\n",
    "        print(\"Enter the values for columns\")\n",
    "        i=0\n",
    "        for i in [0,1,2,3,4]:\n",
    "            x[i] = input()\n",
    "            i = i+1\n",
    "        print(\"Enter the values for first rows\")\n",
    "        i=0\n",
    "        for i in [0,1,2,3,4]:\n",
    "            r1[i] = int(input())\n",
    "            i = i+1\n",
    "        print(\"Enter the values for second rows\")\n",
    "        i=0\n",
    "        for i in [0,1,2,3,4]:\n",
    "            r2[i] = input()\n",
    "            i = i+1\n",
    "        print(\"Enter the values for third rows\")\n",
    "        i=0\n",
    "        for i in [0,1,2,3,4]:\n",
    "            r3[i] = input()\n",
    "            i = i+1\n",
    "        print(\"Enter the values for fourth rows\")\n",
    "        i=0\n",
    "        for i in [0,1,2,3,4]:\n",
    "            r4[i] = input()\n",
    "            i = i+1\n",
    "        df1 = pd.DataFrame([r1,r2,r3,r4], columns = x)\n",
    "    elif(data == 3):\n",
    "        file = input(\"enter the file name \")\n",
    "        x = pd.read_csv(file)\n",
    "        df1 = pd.DataFrame(x)\n",
    "    else:\n",
    "        print(\"dataframe creation failed \")\n",
    "        print(\"please enter the value between 1 to 3 and try again :\")\n",
    "    return df1\n",
    "\n",
    "        \n",
    "            \n",
    "        \n",
    "        \n",
    "         "
   ]
  },
  {
   "cell_type": "code",
   "execution_count": 14,
   "metadata": {},
   "outputs": [],
   "source": [
    "def plotter(plot):\n",
    "    if(plot == 1):\n",
    "        finalplot= df1.iplot(kind=\"scatter\")\n",
    "    elif(plot == 2):\n",
    "        finalplot= df1.iplot(kind=\"scatter\", mode=\"markers\", symbol=\"x\", colorscale=\"paired\")\n",
    "    elif(plot == 3):\n",
    "        finalplot= df1.iplot(kind=\"bar\")\n",
    "    elif(plot == 4):\n",
    "        finalplot= df1.iplot(kind=\"hist\")\n",
    "    elif(plot == 5):\n",
    "        finalplot= df1.iplot(kind=\"box\")\n",
    "    elif(plot == 6):\n",
    "        finalplot= df1.iplot(kind=\"surface\")\n",
    "    else:\n",
    "        finalplot= print(\"select only between 1 to 6\")\n",
    "    return finalplot\n",
    "        \n",
    "        \n",
    "    "
   ]
  },
  {
   "cell_type": "code",
   "execution_count": 15,
   "metadata": {},
   "outputs": [],
   "source": [
    "def plotter2(plot):\n",
    "    col = input(\"Enter the number of columns you want to plot selecting only 1 , 2 and 3:\")\n",
    "    col = int(col)\n",
    "    if(col ==1):\n",
    "        colm = input(\"Enter the column you want to plot by selecting any columns from the data head:\")\n",
    "        if(plot==1):\n",
    "            finalplot = df1[colm].iplot(kind=\"scatter\")\n",
    "        elif(plot==2):\n",
    "            finalplot = df1[colm].iplot(kind=\"scatter\", mode = \"markers\", symbol=\"x\",colorscale =\"paired\")\n",
    "        elif(plot==3):\n",
    "            finalplot = df1[colm].iplot(kind=\"bar\")\n",
    "        elif(plot==4):\n",
    "            finalplot = df1[colm].iplot(kind=\"hist\")\n",
    "        elif(plot==5):\n",
    "            finalplot = df1[colm].iplot(kind=\"box\")\n",
    "        elif(plot==6 or plot==7):\n",
    "            print(\"bubble plot and surface plot require minimum 2 arguments\")\n",
    "        else: \n",
    "            print(\"select please between 1 to 7\")\n",
    "    elif(col==2):\n",
    "        print(\"Enter the columns you want to plot by selecting from dataframe head\")\n",
    "        x = input(\"First column\")\n",
    "        y = input(\"second column\")\n",
    "        if(plot == 1):\n",
    "            finalplot = df1[[x,y]].iplot(kind=\"scatter\")\n",
    "        elif(plot == 2):\n",
    "            finalplot = df1[[x,y]].iplot(kind=\"scatter\", mode = \"markers\", symbol=\"x\",colorscale =\"paired\")\n",
    "        elif(plot == 3):\n",
    "            finalplot = df1[[x,y]].iplot(kind=\"bar\")\n",
    "        elif(plot == 4):\n",
    "            finalplot = df1[[x,y]].iplot(kind=\"hist\")\n",
    "        elif(plot == 5):\n",
    "            finalplot = df1[[x,y]].iplot(kind=\"box\")\n",
    "        elif(plot == 6):\n",
    "            finalplot = df1[[x,y]].iplot(kind=\"surface\")\n",
    "        elif(plot == 7):\n",
    "            size = input(\"Please enter the size column for bubble plot\")\n",
    "            finalplot = df1.iplot(kind=\"bubble\", x=x,y=y,size = size)\n",
    "        else:\n",
    "            print(\"please enter the correct no between 1 to 7 \")\n",
    "            print(\"try again\")\n",
    "    elif(col==3):\n",
    "        print(\"Enter the columns you want to plot\")\n",
    "        x = input(\"enter the first column\")\n",
    "        y = input(\"enter the second column\")\n",
    "        z = input(\"enter the third column\")\n",
    "        if(plot == 1):\n",
    "            finalplot = df1[[x,y,z]].iplot(kind=\"scatter\")\n",
    "        elif(plot == 2):\n",
    "            finalplot = df1[[x,y,z]].iplot(kind=\"scatter\", mode = \"markers\", symbol=\"x\",colorscale =\"paired\")\n",
    "        elif(plot == 3):\n",
    "            finalplot = df1[[x,y,z]].iplot(kind=\"bar\")\n",
    "        elif(plot == 4):\n",
    "            finalplot = df1[[x,y,z]].iplot(kind=\"hist\")\n",
    "        elif(plot == 5):\n",
    "            finalplot = df1[[x,y,z]].iplot(kind=\"box\")\n",
    "        elif(plot == 6):\n",
    "            finalplot = df1[[x,y,z]].iplot(kind=\"surface\")\n",
    "        elif(plot == 7):\n",
    "            size = input(\"Please enter the size column for bubble plot\")\n",
    "            finalplot = df1.iplot(kind=\"bubble\", x=x,y=y,z=z,size = size)\n",
    "        else:\n",
    "            print(\"please enter the correct no between 1 to 7 \")\n",
    "            print(\"try again\")\n",
    "    else:\n",
    "        finalplot = print(\"please enter value from  1 to 3 :\")\n",
    "    return finalplot\n",
    "        \n",
    "    \n",
    "        \n",
    "            \n",
    "            "
   ]
  },
  {
   "cell_type": "code",
   "execution_count": 16,
   "metadata": {},
   "outputs": [],
   "source": [
    "def main(cat):\n",
    "    if(cat == 1):\n",
    "        print(\"Select the type of plot you need to plot by writing 1 to 6\")\n",
    "        print(\"1. Line plot\")\n",
    "        print(\"2. Scatter plot\")\n",
    "        print(\"3. Bar plot\")\n",
    "        print(\"4. Histogram\")\n",
    "        print(\"5. Box plot \")\n",
    "        print(\"6. Surface plot\")\n",
    "        plot = int(input())\n",
    "        output = plotter(plot)\n",
    "    elif(cat ==2):\n",
    "        print(\"Select the type of plot you need to plot by writing 1 to 7\")\n",
    "        print(\"1. Line plot\")\n",
    "        print(\"2. Scatter plot\")\n",
    "        print(\"3. Bar plot\")\n",
    "        print(\"4. Histogram\")\n",
    "        print(\"5. Box plot \")\n",
    "        print(\"6. Surface plot\")\n",
    "        print(\"7. Bubble plot\")\n",
    "        plot = int(input())\n",
    "        output = plotter2(plot)\n",
    "    else:\n",
    "        print(\"please select no right option\")\n",
    "        print(\"and try again\")"
   ]
  },
  {
   "cell_type": "code",
   "execution_count": null,
   "metadata": {},
   "outputs": [],
   "source": []
  },
  {
   "cell_type": "code",
   "execution_count": null,
   "metadata": {},
   "outputs": [],
   "source": []
  },
  {
   "cell_type": "code",
   "execution_count": 17,
   "metadata": {},
   "outputs": [
    {
     "name": "stdout",
     "output_type": "stream",
     "text": [
      "Select the type of data you need to plot(by writing 1,2,3)\n",
      "1. Random data with 100 rows and 5 columns\n",
      "2. Customize dataframe with 5 columns and 4 rows\n",
      "3. upload csv/json/txt file\n",
      "1\n"
     ]
    }
   ],
   "source": [
    "print(\"Select the type of data you need to plot(by writing 1,2,3)\")\n",
    "print(\"1. Random data with 100 rows and 5 columns\")\n",
    "print(\"2. Customize dataframe with 5 columns and 4 rows\")\n",
    "print(\"3. upload csv/json/txt file\")\n",
    "data = int(input())\n",
    "df1= createdata(data)"
   ]
  },
  {
   "cell_type": "code",
   "execution_count": 18,
   "metadata": {},
   "outputs": [
    {
     "name": "stdout",
     "output_type": "stream",
     "text": [
      "Your dataframe head is given below check the columns to plot using cufflinks\n"
     ]
    },
    {
     "data": {
      "text/html": [
       "<div>\n",
       "<style scoped>\n",
       "    .dataframe tbody tr th:only-of-type {\n",
       "        vertical-align: middle;\n",
       "    }\n",
       "\n",
       "    .dataframe tbody tr th {\n",
       "        vertical-align: top;\n",
       "    }\n",
       "\n",
       "    .dataframe thead th {\n",
       "        text-align: right;\n",
       "    }\n",
       "</style>\n",
       "<table border=\"1\" class=\"dataframe\">\n",
       "  <thead>\n",
       "    <tr style=\"text-align: right;\">\n",
       "      <th></th>\n",
       "      <th>A</th>\n",
       "      <th>B</th>\n",
       "      <th>C</th>\n",
       "      <th>D</th>\n",
       "      <th>E</th>\n",
       "    </tr>\n",
       "  </thead>\n",
       "  <tbody>\n",
       "    <tr>\n",
       "      <th>0</th>\n",
       "      <td>0.133756</td>\n",
       "      <td>0.142374</td>\n",
       "      <td>0.219143</td>\n",
       "      <td>0.958430</td>\n",
       "      <td>0.002699</td>\n",
       "    </tr>\n",
       "    <tr>\n",
       "      <th>1</th>\n",
       "      <td>0.729687</td>\n",
       "      <td>0.948287</td>\n",
       "      <td>0.892414</td>\n",
       "      <td>0.865759</td>\n",
       "      <td>0.921866</td>\n",
       "    </tr>\n",
       "    <tr>\n",
       "      <th>2</th>\n",
       "      <td>0.384358</td>\n",
       "      <td>0.008773</td>\n",
       "      <td>0.084837</td>\n",
       "      <td>0.938600</td>\n",
       "      <td>0.725809</td>\n",
       "    </tr>\n",
       "    <tr>\n",
       "      <th>3</th>\n",
       "      <td>0.926307</td>\n",
       "      <td>0.706794</td>\n",
       "      <td>0.611705</td>\n",
       "      <td>0.304937</td>\n",
       "      <td>0.937428</td>\n",
       "    </tr>\n",
       "    <tr>\n",
       "      <th>4</th>\n",
       "      <td>0.790760</td>\n",
       "      <td>0.230152</td>\n",
       "      <td>0.857208</td>\n",
       "      <td>0.279909</td>\n",
       "      <td>0.108682</td>\n",
       "    </tr>\n",
       "  </tbody>\n",
       "</table>\n",
       "</div>"
      ],
      "text/plain": [
       "          A         B         C         D         E\n",
       "0  0.133756  0.142374  0.219143  0.958430  0.002699\n",
       "1  0.729687  0.948287  0.892414  0.865759  0.921866\n",
       "2  0.384358  0.008773  0.084837  0.938600  0.725809\n",
       "3  0.926307  0.706794  0.611705  0.304937  0.937428\n",
       "4  0.790760  0.230152  0.857208  0.279909  0.108682"
      ]
     },
     "execution_count": 18,
     "metadata": {},
     "output_type": "execute_result"
    }
   ],
   "source": [
    "print(\"Your dataframe head is given below check the columns to plot using cufflinks\")\n",
    "df1.head()"
   ]
  },
  {
   "cell_type": "code",
   "execution_count": 19,
   "metadata": {},
   "outputs": [
    {
     "name": "stdout",
     "output_type": "stream",
     "text": [
      "what kind of plot you need, the complete data plot or columns plot\n",
      "press 1 for plotting all columns and press 2 for specifying columns to be plot: 2\n"
     ]
    }
   ],
   "source": [
    "print(\"what kind of plot you need, the complete data plot or columns plot\")\n",
    "cat = input(\"press 1 for plotting all columns and press 2 for specifying columns to be plot: \")\n",
    "cat = int(cat)"
   ]
  },
  {
   "cell_type": "code",
   "execution_count": 20,
   "metadata": {},
   "outputs": [
    {
     "name": "stdout",
     "output_type": "stream",
     "text": [
      "Select the type of plot you need to plot by writing 1 to 7\n",
      "1. Line plot\n",
      "2. Scatter plot\n",
      "3. Bar plot\n",
      "4. Histogram\n",
      "5. Box plot \n",
      "6. Surface plot\n",
      "7. Bubble plot\n",
      "2\n",
      "Enter the number of columns you want to plot selecting only 1 , 2 and 3:3\n",
      "Enter the columns you want to plot\n",
      "enter the first columnA\n",
      "enter the second columnD\n",
      "enter the third columnE\n"
     ]
    },
    {
     "data": {
      "application/vnd.plotly.v1+json": {
       "config": {
        "linkText": "Export to plot.ly",
        "plotlyServerURL": "https://plot.ly",
        "showLink": true
       },
       "data": [
        {
         "line": {
          "color": "rgba(166, 206, 227, 1.0)",
          "dash": "solid",
          "shape": "linear",
          "width": 1.3
         },
         "marker": {
          "size": 12,
          "symbol": "x"
         },
         "mode": "markers",
         "name": "A",
         "text": "",
         "type": "scatter",
         "x": [
          0,
          1,
          2,
          3,
          4,
          5,
          6,
          7,
          8,
          9,
          10,
          11,
          12,
          13,
          14,
          15,
          16,
          17,
          18,
          19,
          20,
          21,
          22,
          23,
          24,
          25,
          26,
          27,
          28,
          29,
          30,
          31,
          32,
          33,
          34,
          35,
          36,
          37,
          38,
          39,
          40,
          41,
          42,
          43,
          44,
          45,
          46,
          47,
          48,
          49,
          50,
          51,
          52,
          53,
          54,
          55,
          56,
          57,
          58,
          59,
          60,
          61,
          62,
          63,
          64,
          65,
          66,
          67,
          68,
          69,
          70,
          71,
          72,
          73,
          74,
          75,
          76,
          77,
          78,
          79,
          80,
          81,
          82,
          83,
          84,
          85,
          86,
          87,
          88,
          89,
          90,
          91,
          92,
          93,
          94,
          95,
          96,
          97,
          98,
          99
         ],
         "y": [
          0.1337564227989363,
          0.7296866583935286,
          0.38435750859839046,
          0.9263071647888727,
          0.7907603949132069,
          0.24903894407421923,
          0.6185304457957207,
          0.18569889114716853,
          0.2909436777426937,
          0.8739781991079624,
          0.40693083268922825,
          0.3689605185227064,
          0.883531831457103,
          0.0007261636877062827,
          0.41801823538610794,
          0.5769113706458581,
          0.6828143949282519,
          0.2387535567192337,
          0.4317362201535795,
          0.26556777018194644,
          0.36096075256799043,
          0.338896110542135,
          0.054797458243993735,
          0.6377805505627478,
          0.9798634720443354,
          0.40306825850065053,
          0.02485010146199418,
          0.14452533797674894,
          0.20973282052248954,
          0.19023087590144572,
          0.6267385176754253,
          0.9812039574669623,
          0.07663581695858468,
          0.38066439337113833,
          0.24940805723871018,
          0.13312352662361893,
          0.8324296740133957,
          0.0856181939036732,
          0.7418977711028548,
          0.6965580205570738,
          0.8120926189772055,
          0.6472508156206794,
          0.5922630958317381,
          0.04770970205848579,
          0.055797255833119674,
          0.2729616708402792,
          0.3049586217710938,
          0.5757952381105085,
          0.9148539510020003,
          0.9946816591325085,
          0.5199037756098867,
          0.5786772810356239,
          0.7100220651181502,
          0.1340268539871866,
          0.3780255568686718,
          0.41396332634198585,
          0.21043466321917015,
          0.6954492966731276,
          0.10008048646133383,
          0.7950282086692573,
          0.2800498810095188,
          0.49318860682989385,
          0.3528016255036235,
          0.07135468549511192,
          0.640870120873948,
          0.04009075896532788,
          0.9223426848571931,
          0.7612636010092267,
          0.1835161432593293,
          0.409937545125012,
          0.3232985559487932,
          0.8113877350051765,
          0.49222884024674496,
          0.5218421299436222,
          0.7566038261110719,
          0.5666261016519769,
          0.5721548127502186,
          0.25394222289383206,
          0.46958893512074684,
          0.5835063533286973,
          0.3521819990934294,
          0.7963039573488206,
          0.7490997980675294,
          0.729322168841455,
          0.23206750819497723,
          0.8867137264485362,
          0.3190476099546079,
          0.6242609877235409,
          0.5927744604792872,
          0.21033127661646467,
          0.8282343263951605,
          0.6980139916769837,
          0.3309926806770902,
          0.407039053594797,
          0.6714414120795883,
          0.7933112152263472,
          0.49273110925917907,
          0.20440894764404438,
          0.16220120664896964,
          0.8400391594742217
         ]
        },
        {
         "line": {
          "color": "rgba(31, 120, 180, 1.0)",
          "dash": "solid",
          "shape": "linear",
          "width": 1.3
         },
         "marker": {
          "size": 12,
          "symbol": "x"
         },
         "mode": "markers",
         "name": "D",
         "text": "",
         "type": "scatter",
         "x": [
          0,
          1,
          2,
          3,
          4,
          5,
          6,
          7,
          8,
          9,
          10,
          11,
          12,
          13,
          14,
          15,
          16,
          17,
          18,
          19,
          20,
          21,
          22,
          23,
          24,
          25,
          26,
          27,
          28,
          29,
          30,
          31,
          32,
          33,
          34,
          35,
          36,
          37,
          38,
          39,
          40,
          41,
          42,
          43,
          44,
          45,
          46,
          47,
          48,
          49,
          50,
          51,
          52,
          53,
          54,
          55,
          56,
          57,
          58,
          59,
          60,
          61,
          62,
          63,
          64,
          65,
          66,
          67,
          68,
          69,
          70,
          71,
          72,
          73,
          74,
          75,
          76,
          77,
          78,
          79,
          80,
          81,
          82,
          83,
          84,
          85,
          86,
          87,
          88,
          89,
          90,
          91,
          92,
          93,
          94,
          95,
          96,
          97,
          98,
          99
         ],
         "y": [
          0.9584298278478952,
          0.8657589011508865,
          0.938600277097262,
          0.3049369488159114,
          0.27990875273937343,
          0.9073871000875372,
          0.6474960640297774,
          0.9502795914400421,
          0.3165318315043454,
          0.5477011816340787,
          0.8204164324912329,
          0.14104623650983505,
          0.7485086565723382,
          0.7522439495146758,
          0.20602312171902037,
          0.6548324665685498,
          0.2490771445073603,
          0.9323080277692929,
          0.4445934652267295,
          0.4880259740616514,
          0.169997679417903,
          0.11679066147047834,
          0.8698886507697523,
          0.06343624637575085,
          0.16760429973094992,
          0.7106882855534027,
          0.032898842915358384,
          0.0025965906152682905,
          0.21853877901685892,
          0.7692878922857579,
          0.5327460133236483,
          0.6236958669020999,
          0.10847223790030591,
          0.7286939825201214,
          0.6817220174755799,
          0.24942962485533293,
          0.26572133965156275,
          0.1246095502995801,
          0.19323749219042097,
          0.055108818297976536,
          0.8635548151828928,
          0.8732946136522426,
          0.09906441448484749,
          0.40869279030738526,
          0.94783867644495,
          0.4501158509887393,
          0.9471625522348576,
          0.3916077610929073,
          0.6381233242065174,
          0.942716035192963,
          0.13196277053736105,
          0.7521058289925808,
          0.5725779239786755,
          0.25251946255084123,
          0.6240741830035743,
          0.02256679937071482,
          0.8984544617281921,
          0.22468175377203903,
          0.1536772777709715,
          0.8725635220756236,
          0.08432177612981029,
          0.0579421337676056,
          0.6459420413196958,
          0.027386511554448267,
          0.4446753719110357,
          0.1316557843188142,
          0.7768834591710444,
          0.20690790827808836,
          0.3597639309565279,
          0.06369736968134565,
          0.6478144820253625,
          0.6087437402922122,
          0.2948233451936605,
          0.898873090517937,
          0.595300854396599,
          0.19751586496969897,
          0.6368048728309966,
          0.4632070693523074,
          0.6999721170101951,
          0.5105698708885,
          0.5496642229358717,
          0.9744790905902769,
          0.3544511436514719,
          0.6008894469936482,
          0.388634026913802,
          0.6289918949528656,
          0.9784688128745931,
          0.12818778137759979,
          0.5980841569464279,
          0.7862370141339783,
          0.7758283324462061,
          0.8913461485963585,
          0.3451910566650571,
          0.19082338763865614,
          0.4737022211029971,
          0.908195146345967,
          0.9319646546074181,
          0.0064510720063265525,
          0.04536018007104914,
          0.24068811580772131
         ]
        },
        {
         "line": {
          "color": "rgba(178, 223, 138, 1.0)",
          "dash": "solid",
          "shape": "linear",
          "width": 1.3
         },
         "marker": {
          "size": 12,
          "symbol": "x"
         },
         "mode": "markers",
         "name": "E",
         "text": "",
         "type": "scatter",
         "x": [
          0,
          1,
          2,
          3,
          4,
          5,
          6,
          7,
          8,
          9,
          10,
          11,
          12,
          13,
          14,
          15,
          16,
          17,
          18,
          19,
          20,
          21,
          22,
          23,
          24,
          25,
          26,
          27,
          28,
          29,
          30,
          31,
          32,
          33,
          34,
          35,
          36,
          37,
          38,
          39,
          40,
          41,
          42,
          43,
          44,
          45,
          46,
          47,
          48,
          49,
          50,
          51,
          52,
          53,
          54,
          55,
          56,
          57,
          58,
          59,
          60,
          61,
          62,
          63,
          64,
          65,
          66,
          67,
          68,
          69,
          70,
          71,
          72,
          73,
          74,
          75,
          76,
          77,
          78,
          79,
          80,
          81,
          82,
          83,
          84,
          85,
          86,
          87,
          88,
          89,
          90,
          91,
          92,
          93,
          94,
          95,
          96,
          97,
          98,
          99
         ],
         "y": [
          0.0026986520907315015,
          0.9218655951250108,
          0.7258087989327054,
          0.9374277673581832,
          0.10868209085515712,
          0.265387954422991,
          0.17771734180737553,
          0.1478766777474816,
          0.7764453192439558,
          0.2881370807189938,
          0.8611448341474803,
          0.8789235360424767,
          0.7804273583041444,
          0.23712190529716315,
          0.41224437620593535,
          0.45262367691233896,
          0.8845190849685438,
          0.13816148142996898,
          0.1957165609991166,
          0.16674041849295718,
          0.04819485006721902,
          0.7792494948132643,
          0.08838067795626559,
          0.5519108638878438,
          0.19318337907015115,
          0.7716635024459931,
          0.2848213198431053,
          0.584681586253274,
          0.7157579442022803,
          0.5002209857062356,
          0.47825750663301403,
          0.6258838281203524,
          0.9040285378663501,
          0.4217994810947352,
          0.26101268304340064,
          0.5392577808637707,
          0.5278221679883266,
          0.7631227242820938,
          0.8747615088380856,
          0.5801982306317139,
          0.6705726960600572,
          0.9647324713572868,
          0.23644017768910996,
          0.045028708586897004,
          0.06900706937680878,
          0.7946731642807991,
          0.08293142547600563,
          0.4902290479995085,
          0.7475247537545618,
          0.679344151917192,
          0.6988171245596407,
          0.2480729733459175,
          0.5896433572008162,
          0.5587750465963588,
          0.09678955306757875,
          0.9232076775932034,
          0.590939154969158,
          0.6793871718670325,
          0.8006090194719621,
          0.9745656060850373,
          0.3469012920874017,
          0.2986653340598264,
          0.43198001955958765,
          0.8400339977370366,
          0.9864358754454269,
          0.38752778471733207,
          0.7715283622344988,
          0.44375993424620563,
          0.5816690240259689,
          0.6735434861370907,
          0.27964597727253115,
          0.4554215136031027,
          0.5554499824267984,
          0.4096640777540045,
          0.6986258585007871,
          0.7555269709274666,
          0.5853410462480529,
          0.7338366857404971,
          0.88638910866523,
          0.9452898731626428,
          0.6063262585044255,
          0.836174288629585,
          0.8373239563501798,
          0.37260538452903436,
          0.7728643411609587,
          0.7559889318152608,
          0.8243850949107098,
          0.7469808531427248,
          0.12243081186529736,
          0.7427464080091448,
          0.4983378485386113,
          0.8876540847894158,
          0.8907350821767708,
          0.361375067822048,
          0.0822986830111051,
          0.897161262098945,
          0.5317684756472414,
          0.29195031213137723,
          0.16177425945388868,
          0.15129483996722892
         ]
        }
       ],
       "layout": {
        "legend": {
         "bgcolor": "#F5F6F9",
         "font": {
          "color": "#4D5663"
         }
        },
        "paper_bgcolor": "#F5F6F9",
        "plot_bgcolor": "#F5F6F9",
        "template": {
         "data": {
          "bar": [
           {
            "error_x": {
             "color": "#2a3f5f"
            },
            "error_y": {
             "color": "#2a3f5f"
            },
            "marker": {
             "line": {
              "color": "#E5ECF6",
              "width": 0.5
             }
            },
            "type": "bar"
           }
          ],
          "barpolar": [
           {
            "marker": {
             "line": {
              "color": "#E5ECF6",
              "width": 0.5
             }
            },
            "type": "barpolar"
           }
          ],
          "carpet": [
           {
            "aaxis": {
             "endlinecolor": "#2a3f5f",
             "gridcolor": "white",
             "linecolor": "white",
             "minorgridcolor": "white",
             "startlinecolor": "#2a3f5f"
            },
            "baxis": {
             "endlinecolor": "#2a3f5f",
             "gridcolor": "white",
             "linecolor": "white",
             "minorgridcolor": "white",
             "startlinecolor": "#2a3f5f"
            },
            "type": "carpet"
           }
          ],
          "choropleth": [
           {
            "colorbar": {
             "outlinewidth": 0,
             "ticks": ""
            },
            "type": "choropleth"
           }
          ],
          "contour": [
           {
            "colorbar": {
             "outlinewidth": 0,
             "ticks": ""
            },
            "colorscale": [
             [
              0,
              "#0d0887"
             ],
             [
              0.1111111111111111,
              "#46039f"
             ],
             [
              0.2222222222222222,
              "#7201a8"
             ],
             [
              0.3333333333333333,
              "#9c179e"
             ],
             [
              0.4444444444444444,
              "#bd3786"
             ],
             [
              0.5555555555555556,
              "#d8576b"
             ],
             [
              0.6666666666666666,
              "#ed7953"
             ],
             [
              0.7777777777777778,
              "#fb9f3a"
             ],
             [
              0.8888888888888888,
              "#fdca26"
             ],
             [
              1,
              "#f0f921"
             ]
            ],
            "type": "contour"
           }
          ],
          "contourcarpet": [
           {
            "colorbar": {
             "outlinewidth": 0,
             "ticks": ""
            },
            "type": "contourcarpet"
           }
          ],
          "heatmap": [
           {
            "colorbar": {
             "outlinewidth": 0,
             "ticks": ""
            },
            "colorscale": [
             [
              0,
              "#0d0887"
             ],
             [
              0.1111111111111111,
              "#46039f"
             ],
             [
              0.2222222222222222,
              "#7201a8"
             ],
             [
              0.3333333333333333,
              "#9c179e"
             ],
             [
              0.4444444444444444,
              "#bd3786"
             ],
             [
              0.5555555555555556,
              "#d8576b"
             ],
             [
              0.6666666666666666,
              "#ed7953"
             ],
             [
              0.7777777777777778,
              "#fb9f3a"
             ],
             [
              0.8888888888888888,
              "#fdca26"
             ],
             [
              1,
              "#f0f921"
             ]
            ],
            "type": "heatmap"
           }
          ],
          "heatmapgl": [
           {
            "colorbar": {
             "outlinewidth": 0,
             "ticks": ""
            },
            "colorscale": [
             [
              0,
              "#0d0887"
             ],
             [
              0.1111111111111111,
              "#46039f"
             ],
             [
              0.2222222222222222,
              "#7201a8"
             ],
             [
              0.3333333333333333,
              "#9c179e"
             ],
             [
              0.4444444444444444,
              "#bd3786"
             ],
             [
              0.5555555555555556,
              "#d8576b"
             ],
             [
              0.6666666666666666,
              "#ed7953"
             ],
             [
              0.7777777777777778,
              "#fb9f3a"
             ],
             [
              0.8888888888888888,
              "#fdca26"
             ],
             [
              1,
              "#f0f921"
             ]
            ],
            "type": "heatmapgl"
           }
          ],
          "histogram": [
           {
            "marker": {
             "colorbar": {
              "outlinewidth": 0,
              "ticks": ""
             }
            },
            "type": "histogram"
           }
          ],
          "histogram2d": [
           {
            "colorbar": {
             "outlinewidth": 0,
             "ticks": ""
            },
            "colorscale": [
             [
              0,
              "#0d0887"
             ],
             [
              0.1111111111111111,
              "#46039f"
             ],
             [
              0.2222222222222222,
              "#7201a8"
             ],
             [
              0.3333333333333333,
              "#9c179e"
             ],
             [
              0.4444444444444444,
              "#bd3786"
             ],
             [
              0.5555555555555556,
              "#d8576b"
             ],
             [
              0.6666666666666666,
              "#ed7953"
             ],
             [
              0.7777777777777778,
              "#fb9f3a"
             ],
             [
              0.8888888888888888,
              "#fdca26"
             ],
             [
              1,
              "#f0f921"
             ]
            ],
            "type": "histogram2d"
           }
          ],
          "histogram2dcontour": [
           {
            "colorbar": {
             "outlinewidth": 0,
             "ticks": ""
            },
            "colorscale": [
             [
              0,
              "#0d0887"
             ],
             [
              0.1111111111111111,
              "#46039f"
             ],
             [
              0.2222222222222222,
              "#7201a8"
             ],
             [
              0.3333333333333333,
              "#9c179e"
             ],
             [
              0.4444444444444444,
              "#bd3786"
             ],
             [
              0.5555555555555556,
              "#d8576b"
             ],
             [
              0.6666666666666666,
              "#ed7953"
             ],
             [
              0.7777777777777778,
              "#fb9f3a"
             ],
             [
              0.8888888888888888,
              "#fdca26"
             ],
             [
              1,
              "#f0f921"
             ]
            ],
            "type": "histogram2dcontour"
           }
          ],
          "mesh3d": [
           {
            "colorbar": {
             "outlinewidth": 0,
             "ticks": ""
            },
            "type": "mesh3d"
           }
          ],
          "parcoords": [
           {
            "line": {
             "colorbar": {
              "outlinewidth": 0,
              "ticks": ""
             }
            },
            "type": "parcoords"
           }
          ],
          "pie": [
           {
            "automargin": true,
            "type": "pie"
           }
          ],
          "scatter": [
           {
            "marker": {
             "colorbar": {
              "outlinewidth": 0,
              "ticks": ""
             }
            },
            "type": "scatter"
           }
          ],
          "scatter3d": [
           {
            "line": {
             "colorbar": {
              "outlinewidth": 0,
              "ticks": ""
             }
            },
            "marker": {
             "colorbar": {
              "outlinewidth": 0,
              "ticks": ""
             }
            },
            "type": "scatter3d"
           }
          ],
          "scattercarpet": [
           {
            "marker": {
             "colorbar": {
              "outlinewidth": 0,
              "ticks": ""
             }
            },
            "type": "scattercarpet"
           }
          ],
          "scattergeo": [
           {
            "marker": {
             "colorbar": {
              "outlinewidth": 0,
              "ticks": ""
             }
            },
            "type": "scattergeo"
           }
          ],
          "scattergl": [
           {
            "marker": {
             "colorbar": {
              "outlinewidth": 0,
              "ticks": ""
             }
            },
            "type": "scattergl"
           }
          ],
          "scattermapbox": [
           {
            "marker": {
             "colorbar": {
              "outlinewidth": 0,
              "ticks": ""
             }
            },
            "type": "scattermapbox"
           }
          ],
          "scatterpolar": [
           {
            "marker": {
             "colorbar": {
              "outlinewidth": 0,
              "ticks": ""
             }
            },
            "type": "scatterpolar"
           }
          ],
          "scatterpolargl": [
           {
            "marker": {
             "colorbar": {
              "outlinewidth": 0,
              "ticks": ""
             }
            },
            "type": "scatterpolargl"
           }
          ],
          "scatterternary": [
           {
            "marker": {
             "colorbar": {
              "outlinewidth": 0,
              "ticks": ""
             }
            },
            "type": "scatterternary"
           }
          ],
          "surface": [
           {
            "colorbar": {
             "outlinewidth": 0,
             "ticks": ""
            },
            "colorscale": [
             [
              0,
              "#0d0887"
             ],
             [
              0.1111111111111111,
              "#46039f"
             ],
             [
              0.2222222222222222,
              "#7201a8"
             ],
             [
              0.3333333333333333,
              "#9c179e"
             ],
             [
              0.4444444444444444,
              "#bd3786"
             ],
             [
              0.5555555555555556,
              "#d8576b"
             ],
             [
              0.6666666666666666,
              "#ed7953"
             ],
             [
              0.7777777777777778,
              "#fb9f3a"
             ],
             [
              0.8888888888888888,
              "#fdca26"
             ],
             [
              1,
              "#f0f921"
             ]
            ],
            "type": "surface"
           }
          ],
          "table": [
           {
            "cells": {
             "fill": {
              "color": "#EBF0F8"
             },
             "line": {
              "color": "white"
             }
            },
            "header": {
             "fill": {
              "color": "#C8D4E3"
             },
             "line": {
              "color": "white"
             }
            },
            "type": "table"
           }
          ]
         },
         "layout": {
          "annotationdefaults": {
           "arrowcolor": "#2a3f5f",
           "arrowhead": 0,
           "arrowwidth": 1
          },
          "coloraxis": {
           "colorbar": {
            "outlinewidth": 0,
            "ticks": ""
           }
          },
          "colorscale": {
           "diverging": [
            [
             0,
             "#8e0152"
            ],
            [
             0.1,
             "#c51b7d"
            ],
            [
             0.2,
             "#de77ae"
            ],
            [
             0.3,
             "#f1b6da"
            ],
            [
             0.4,
             "#fde0ef"
            ],
            [
             0.5,
             "#f7f7f7"
            ],
            [
             0.6,
             "#e6f5d0"
            ],
            [
             0.7,
             "#b8e186"
            ],
            [
             0.8,
             "#7fbc41"
            ],
            [
             0.9,
             "#4d9221"
            ],
            [
             1,
             "#276419"
            ]
           ],
           "sequential": [
            [
             0,
             "#0d0887"
            ],
            [
             0.1111111111111111,
             "#46039f"
            ],
            [
             0.2222222222222222,
             "#7201a8"
            ],
            [
             0.3333333333333333,
             "#9c179e"
            ],
            [
             0.4444444444444444,
             "#bd3786"
            ],
            [
             0.5555555555555556,
             "#d8576b"
            ],
            [
             0.6666666666666666,
             "#ed7953"
            ],
            [
             0.7777777777777778,
             "#fb9f3a"
            ],
            [
             0.8888888888888888,
             "#fdca26"
            ],
            [
             1,
             "#f0f921"
            ]
           ],
           "sequentialminus": [
            [
             0,
             "#0d0887"
            ],
            [
             0.1111111111111111,
             "#46039f"
            ],
            [
             0.2222222222222222,
             "#7201a8"
            ],
            [
             0.3333333333333333,
             "#9c179e"
            ],
            [
             0.4444444444444444,
             "#bd3786"
            ],
            [
             0.5555555555555556,
             "#d8576b"
            ],
            [
             0.6666666666666666,
             "#ed7953"
            ],
            [
             0.7777777777777778,
             "#fb9f3a"
            ],
            [
             0.8888888888888888,
             "#fdca26"
            ],
            [
             1,
             "#f0f921"
            ]
           ]
          },
          "colorway": [
           "#636efa",
           "#EF553B",
           "#00cc96",
           "#ab63fa",
           "#FFA15A",
           "#19d3f3",
           "#FF6692",
           "#B6E880",
           "#FF97FF",
           "#FECB52"
          ],
          "font": {
           "color": "#2a3f5f"
          },
          "geo": {
           "bgcolor": "white",
           "lakecolor": "white",
           "landcolor": "#E5ECF6",
           "showlakes": true,
           "showland": true,
           "subunitcolor": "white"
          },
          "hoverlabel": {
           "align": "left"
          },
          "hovermode": "closest",
          "mapbox": {
           "style": "light"
          },
          "paper_bgcolor": "white",
          "plot_bgcolor": "#E5ECF6",
          "polar": {
           "angularaxis": {
            "gridcolor": "white",
            "linecolor": "white",
            "ticks": ""
           },
           "bgcolor": "#E5ECF6",
           "radialaxis": {
            "gridcolor": "white",
            "linecolor": "white",
            "ticks": ""
           }
          },
          "scene": {
           "xaxis": {
            "backgroundcolor": "#E5ECF6",
            "gridcolor": "white",
            "gridwidth": 2,
            "linecolor": "white",
            "showbackground": true,
            "ticks": "",
            "zerolinecolor": "white"
           },
           "yaxis": {
            "backgroundcolor": "#E5ECF6",
            "gridcolor": "white",
            "gridwidth": 2,
            "linecolor": "white",
            "showbackground": true,
            "ticks": "",
            "zerolinecolor": "white"
           },
           "zaxis": {
            "backgroundcolor": "#E5ECF6",
            "gridcolor": "white",
            "gridwidth": 2,
            "linecolor": "white",
            "showbackground": true,
            "ticks": "",
            "zerolinecolor": "white"
           }
          },
          "shapedefaults": {
           "line": {
            "color": "#2a3f5f"
           }
          },
          "ternary": {
           "aaxis": {
            "gridcolor": "white",
            "linecolor": "white",
            "ticks": ""
           },
           "baxis": {
            "gridcolor": "white",
            "linecolor": "white",
            "ticks": ""
           },
           "bgcolor": "#E5ECF6",
           "caxis": {
            "gridcolor": "white",
            "linecolor": "white",
            "ticks": ""
           }
          },
          "title": {
           "x": 0.05
          },
          "xaxis": {
           "automargin": true,
           "gridcolor": "white",
           "linecolor": "white",
           "ticks": "",
           "title": {
            "standoff": 15
           },
           "zerolinecolor": "white",
           "zerolinewidth": 2
          },
          "yaxis": {
           "automargin": true,
           "gridcolor": "white",
           "linecolor": "white",
           "ticks": "",
           "title": {
            "standoff": 15
           },
           "zerolinecolor": "white",
           "zerolinewidth": 2
          }
         }
        },
        "title": {
         "font": {
          "color": "#4D5663"
         }
        },
        "xaxis": {
         "gridcolor": "#E1E5ED",
         "showgrid": true,
         "tickfont": {
          "color": "#4D5663"
         },
         "title": {
          "font": {
           "color": "#4D5663"
          },
          "text": ""
         },
         "zerolinecolor": "#E1E5ED"
        },
        "yaxis": {
         "gridcolor": "#E1E5ED",
         "showgrid": true,
         "tickfont": {
          "color": "#4D5663"
         },
         "title": {
          "font": {
           "color": "#4D5663"
          },
          "text": ""
         },
         "zerolinecolor": "#E1E5ED"
        }
       }
      },
      "text/html": [
       "<div>\n",
       "        \n",
       "        \n",
       "            <div id=\"f57a4ca4-4e37-4168-90df-6b1f7d33c0d8\" class=\"plotly-graph-div\" style=\"height:525px; width:100%;\"></div>\n",
       "            <script type=\"text/javascript\">\n",
       "                require([\"plotly\"], function(Plotly) {\n",
       "                    window.PLOTLYENV=window.PLOTLYENV || {};\n",
       "                    window.PLOTLYENV.BASE_URL='https://plot.ly';\n",
       "                    \n",
       "                if (document.getElementById(\"f57a4ca4-4e37-4168-90df-6b1f7d33c0d8\")) {\n",
       "                    Plotly.newPlot(\n",
       "                        'f57a4ca4-4e37-4168-90df-6b1f7d33c0d8',\n",
       "                        [{\"line\": {\"color\": \"rgba(166, 206, 227, 1.0)\", \"dash\": \"solid\", \"shape\": \"linear\", \"width\": 1.3}, \"marker\": {\"size\": 12, \"symbol\": \"x\"}, \"mode\": \"markers\", \"name\": \"A\", \"text\": \"\", \"type\": \"scatter\", \"x\": [0, 1, 2, 3, 4, 5, 6, 7, 8, 9, 10, 11, 12, 13, 14, 15, 16, 17, 18, 19, 20, 21, 22, 23, 24, 25, 26, 27, 28, 29, 30, 31, 32, 33, 34, 35, 36, 37, 38, 39, 40, 41, 42, 43, 44, 45, 46, 47, 48, 49, 50, 51, 52, 53, 54, 55, 56, 57, 58, 59, 60, 61, 62, 63, 64, 65, 66, 67, 68, 69, 70, 71, 72, 73, 74, 75, 76, 77, 78, 79, 80, 81, 82, 83, 84, 85, 86, 87, 88, 89, 90, 91, 92, 93, 94, 95, 96, 97, 98, 99], \"y\": [0.1337564227989363, 0.7296866583935286, 0.38435750859839046, 0.9263071647888727, 0.7907603949132069, 0.24903894407421923, 0.6185304457957207, 0.18569889114716853, 0.2909436777426937, 0.8739781991079624, 0.40693083268922825, 0.3689605185227064, 0.883531831457103, 0.0007261636877062827, 0.41801823538610794, 0.5769113706458581, 0.6828143949282519, 0.2387535567192337, 0.4317362201535795, 0.26556777018194644, 0.36096075256799043, 0.338896110542135, 0.054797458243993735, 0.6377805505627478, 0.9798634720443354, 0.40306825850065053, 0.02485010146199418, 0.14452533797674894, 0.20973282052248954, 0.19023087590144572, 0.6267385176754253, 0.9812039574669623, 0.07663581695858468, 0.38066439337113833, 0.24940805723871018, 0.13312352662361893, 0.8324296740133957, 0.0856181939036732, 0.7418977711028548, 0.6965580205570738, 0.8120926189772055, 0.6472508156206794, 0.5922630958317381, 0.04770970205848579, 0.055797255833119674, 0.2729616708402792, 0.3049586217710938, 0.5757952381105085, 0.9148539510020003, 0.9946816591325085, 0.5199037756098867, 0.5786772810356239, 0.7100220651181502, 0.1340268539871866, 0.3780255568686718, 0.41396332634198585, 0.21043466321917015, 0.6954492966731276, 0.10008048646133383, 0.7950282086692573, 0.2800498810095188, 0.49318860682989385, 0.3528016255036235, 0.07135468549511192, 0.640870120873948, 0.04009075896532788, 0.9223426848571931, 0.7612636010092267, 0.1835161432593293, 0.409937545125012, 0.3232985559487932, 0.8113877350051765, 0.49222884024674496, 0.5218421299436222, 0.7566038261110719, 0.5666261016519769, 0.5721548127502186, 0.25394222289383206, 0.46958893512074684, 0.5835063533286973, 0.3521819990934294, 0.7963039573488206, 0.7490997980675294, 0.729322168841455, 0.23206750819497723, 0.8867137264485362, 0.3190476099546079, 0.6242609877235409, 0.5927744604792872, 0.21033127661646467, 0.8282343263951605, 0.6980139916769837, 0.3309926806770902, 0.407039053594797, 0.6714414120795883, 0.7933112152263472, 0.49273110925917907, 0.20440894764404438, 0.16220120664896964, 0.8400391594742217]}, {\"line\": {\"color\": \"rgba(31, 120, 180, 1.0)\", \"dash\": \"solid\", \"shape\": \"linear\", \"width\": 1.3}, \"marker\": {\"size\": 12, \"symbol\": \"x\"}, \"mode\": \"markers\", \"name\": \"D\", \"text\": \"\", \"type\": \"scatter\", \"x\": [0, 1, 2, 3, 4, 5, 6, 7, 8, 9, 10, 11, 12, 13, 14, 15, 16, 17, 18, 19, 20, 21, 22, 23, 24, 25, 26, 27, 28, 29, 30, 31, 32, 33, 34, 35, 36, 37, 38, 39, 40, 41, 42, 43, 44, 45, 46, 47, 48, 49, 50, 51, 52, 53, 54, 55, 56, 57, 58, 59, 60, 61, 62, 63, 64, 65, 66, 67, 68, 69, 70, 71, 72, 73, 74, 75, 76, 77, 78, 79, 80, 81, 82, 83, 84, 85, 86, 87, 88, 89, 90, 91, 92, 93, 94, 95, 96, 97, 98, 99], \"y\": [0.9584298278478952, 0.8657589011508865, 0.938600277097262, 0.3049369488159114, 0.27990875273937343, 0.9073871000875372, 0.6474960640297774, 0.9502795914400421, 0.3165318315043454, 0.5477011816340787, 0.8204164324912329, 0.14104623650983505, 0.7485086565723382, 0.7522439495146758, 0.20602312171902037, 0.6548324665685498, 0.2490771445073603, 0.9323080277692929, 0.4445934652267295, 0.4880259740616514, 0.169997679417903, 0.11679066147047834, 0.8698886507697523, 0.06343624637575085, 0.16760429973094992, 0.7106882855534027, 0.032898842915358384, 0.0025965906152682905, 0.21853877901685892, 0.7692878922857579, 0.5327460133236483, 0.6236958669020999, 0.10847223790030591, 0.7286939825201214, 0.6817220174755799, 0.24942962485533293, 0.26572133965156275, 0.1246095502995801, 0.19323749219042097, 0.055108818297976536, 0.8635548151828928, 0.8732946136522426, 0.09906441448484749, 0.40869279030738526, 0.94783867644495, 0.4501158509887393, 0.9471625522348576, 0.3916077610929073, 0.6381233242065174, 0.942716035192963, 0.13196277053736105, 0.7521058289925808, 0.5725779239786755, 0.25251946255084123, 0.6240741830035743, 0.02256679937071482, 0.8984544617281921, 0.22468175377203903, 0.1536772777709715, 0.8725635220756236, 0.08432177612981029, 0.0579421337676056, 0.6459420413196958, 0.027386511554448267, 0.4446753719110357, 0.1316557843188142, 0.7768834591710444, 0.20690790827808836, 0.3597639309565279, 0.06369736968134565, 0.6478144820253625, 0.6087437402922122, 0.2948233451936605, 0.898873090517937, 0.595300854396599, 0.19751586496969897, 0.6368048728309966, 0.4632070693523074, 0.6999721170101951, 0.5105698708885, 0.5496642229358717, 0.9744790905902769, 0.3544511436514719, 0.6008894469936482, 0.388634026913802, 0.6289918949528656, 0.9784688128745931, 0.12818778137759979, 0.5980841569464279, 0.7862370141339783, 0.7758283324462061, 0.8913461485963585, 0.3451910566650571, 0.19082338763865614, 0.4737022211029971, 0.908195146345967, 0.9319646546074181, 0.0064510720063265525, 0.04536018007104914, 0.24068811580772131]}, {\"line\": {\"color\": \"rgba(178, 223, 138, 1.0)\", \"dash\": \"solid\", \"shape\": \"linear\", \"width\": 1.3}, \"marker\": {\"size\": 12, \"symbol\": \"x\"}, \"mode\": \"markers\", \"name\": \"E\", \"text\": \"\", \"type\": \"scatter\", \"x\": [0, 1, 2, 3, 4, 5, 6, 7, 8, 9, 10, 11, 12, 13, 14, 15, 16, 17, 18, 19, 20, 21, 22, 23, 24, 25, 26, 27, 28, 29, 30, 31, 32, 33, 34, 35, 36, 37, 38, 39, 40, 41, 42, 43, 44, 45, 46, 47, 48, 49, 50, 51, 52, 53, 54, 55, 56, 57, 58, 59, 60, 61, 62, 63, 64, 65, 66, 67, 68, 69, 70, 71, 72, 73, 74, 75, 76, 77, 78, 79, 80, 81, 82, 83, 84, 85, 86, 87, 88, 89, 90, 91, 92, 93, 94, 95, 96, 97, 98, 99], \"y\": [0.0026986520907315015, 0.9218655951250108, 0.7258087989327054, 0.9374277673581832, 0.10868209085515712, 0.265387954422991, 0.17771734180737553, 0.1478766777474816, 0.7764453192439558, 0.2881370807189938, 0.8611448341474803, 0.8789235360424767, 0.7804273583041444, 0.23712190529716315, 0.41224437620593535, 0.45262367691233896, 0.8845190849685438, 0.13816148142996898, 0.1957165609991166, 0.16674041849295718, 0.04819485006721902, 0.7792494948132643, 0.08838067795626559, 0.5519108638878438, 0.19318337907015115, 0.7716635024459931, 0.2848213198431053, 0.584681586253274, 0.7157579442022803, 0.5002209857062356, 0.47825750663301403, 0.6258838281203524, 0.9040285378663501, 0.4217994810947352, 0.26101268304340064, 0.5392577808637707, 0.5278221679883266, 0.7631227242820938, 0.8747615088380856, 0.5801982306317139, 0.6705726960600572, 0.9647324713572868, 0.23644017768910996, 0.045028708586897004, 0.06900706937680878, 0.7946731642807991, 0.08293142547600563, 0.4902290479995085, 0.7475247537545618, 0.679344151917192, 0.6988171245596407, 0.2480729733459175, 0.5896433572008162, 0.5587750465963588, 0.09678955306757875, 0.9232076775932034, 0.590939154969158, 0.6793871718670325, 0.8006090194719621, 0.9745656060850373, 0.3469012920874017, 0.2986653340598264, 0.43198001955958765, 0.8400339977370366, 0.9864358754454269, 0.38752778471733207, 0.7715283622344988, 0.44375993424620563, 0.5816690240259689, 0.6735434861370907, 0.27964597727253115, 0.4554215136031027, 0.5554499824267984, 0.4096640777540045, 0.6986258585007871, 0.7555269709274666, 0.5853410462480529, 0.7338366857404971, 0.88638910866523, 0.9452898731626428, 0.6063262585044255, 0.836174288629585, 0.8373239563501798, 0.37260538452903436, 0.7728643411609587, 0.7559889318152608, 0.8243850949107098, 0.7469808531427248, 0.12243081186529736, 0.7427464080091448, 0.4983378485386113, 0.8876540847894158, 0.8907350821767708, 0.361375067822048, 0.0822986830111051, 0.897161262098945, 0.5317684756472414, 0.29195031213137723, 0.16177425945388868, 0.15129483996722892]}],\n",
       "                        {\"legend\": {\"bgcolor\": \"#F5F6F9\", \"font\": {\"color\": \"#4D5663\"}}, \"paper_bgcolor\": \"#F5F6F9\", \"plot_bgcolor\": \"#F5F6F9\", \"template\": {\"data\": {\"bar\": [{\"error_x\": {\"color\": \"#2a3f5f\"}, \"error_y\": {\"color\": \"#2a3f5f\"}, \"marker\": {\"line\": {\"color\": \"#E5ECF6\", \"width\": 0.5}}, \"type\": \"bar\"}], \"barpolar\": [{\"marker\": {\"line\": {\"color\": \"#E5ECF6\", \"width\": 0.5}}, \"type\": \"barpolar\"}], \"carpet\": [{\"aaxis\": {\"endlinecolor\": \"#2a3f5f\", \"gridcolor\": \"white\", \"linecolor\": \"white\", \"minorgridcolor\": \"white\", \"startlinecolor\": \"#2a3f5f\"}, \"baxis\": {\"endlinecolor\": \"#2a3f5f\", \"gridcolor\": \"white\", \"linecolor\": \"white\", \"minorgridcolor\": \"white\", \"startlinecolor\": \"#2a3f5f\"}, \"type\": \"carpet\"}], \"choropleth\": [{\"colorbar\": {\"outlinewidth\": 0, \"ticks\": \"\"}, \"type\": \"choropleth\"}], \"contour\": [{\"colorbar\": {\"outlinewidth\": 0, \"ticks\": \"\"}, \"colorscale\": [[0.0, \"#0d0887\"], [0.1111111111111111, \"#46039f\"], [0.2222222222222222, \"#7201a8\"], [0.3333333333333333, \"#9c179e\"], [0.4444444444444444, \"#bd3786\"], [0.5555555555555556, \"#d8576b\"], [0.6666666666666666, \"#ed7953\"], [0.7777777777777778, \"#fb9f3a\"], [0.8888888888888888, \"#fdca26\"], [1.0, \"#f0f921\"]], \"type\": \"contour\"}], \"contourcarpet\": [{\"colorbar\": {\"outlinewidth\": 0, \"ticks\": \"\"}, \"type\": \"contourcarpet\"}], \"heatmap\": [{\"colorbar\": {\"outlinewidth\": 0, \"ticks\": \"\"}, \"colorscale\": [[0.0, \"#0d0887\"], [0.1111111111111111, \"#46039f\"], [0.2222222222222222, \"#7201a8\"], [0.3333333333333333, \"#9c179e\"], [0.4444444444444444, \"#bd3786\"], [0.5555555555555556, \"#d8576b\"], [0.6666666666666666, \"#ed7953\"], [0.7777777777777778, \"#fb9f3a\"], [0.8888888888888888, \"#fdca26\"], [1.0, \"#f0f921\"]], \"type\": \"heatmap\"}], \"heatmapgl\": [{\"colorbar\": {\"outlinewidth\": 0, \"ticks\": \"\"}, \"colorscale\": [[0.0, \"#0d0887\"], [0.1111111111111111, \"#46039f\"], [0.2222222222222222, \"#7201a8\"], [0.3333333333333333, \"#9c179e\"], [0.4444444444444444, \"#bd3786\"], [0.5555555555555556, \"#d8576b\"], [0.6666666666666666, \"#ed7953\"], [0.7777777777777778, \"#fb9f3a\"], [0.8888888888888888, \"#fdca26\"], [1.0, \"#f0f921\"]], \"type\": \"heatmapgl\"}], \"histogram\": [{\"marker\": {\"colorbar\": {\"outlinewidth\": 0, \"ticks\": \"\"}}, \"type\": \"histogram\"}], \"histogram2d\": [{\"colorbar\": {\"outlinewidth\": 0, \"ticks\": \"\"}, \"colorscale\": [[0.0, \"#0d0887\"], [0.1111111111111111, \"#46039f\"], [0.2222222222222222, \"#7201a8\"], [0.3333333333333333, \"#9c179e\"], [0.4444444444444444, \"#bd3786\"], [0.5555555555555556, \"#d8576b\"], [0.6666666666666666, \"#ed7953\"], [0.7777777777777778, \"#fb9f3a\"], [0.8888888888888888, \"#fdca26\"], [1.0, \"#f0f921\"]], \"type\": \"histogram2d\"}], \"histogram2dcontour\": [{\"colorbar\": {\"outlinewidth\": 0, \"ticks\": \"\"}, \"colorscale\": [[0.0, \"#0d0887\"], [0.1111111111111111, \"#46039f\"], [0.2222222222222222, \"#7201a8\"], [0.3333333333333333, \"#9c179e\"], [0.4444444444444444, \"#bd3786\"], [0.5555555555555556, \"#d8576b\"], [0.6666666666666666, \"#ed7953\"], [0.7777777777777778, \"#fb9f3a\"], [0.8888888888888888, \"#fdca26\"], [1.0, \"#f0f921\"]], \"type\": \"histogram2dcontour\"}], \"mesh3d\": [{\"colorbar\": {\"outlinewidth\": 0, \"ticks\": \"\"}, \"type\": \"mesh3d\"}], \"parcoords\": [{\"line\": {\"colorbar\": {\"outlinewidth\": 0, \"ticks\": \"\"}}, \"type\": \"parcoords\"}], \"pie\": [{\"automargin\": true, \"type\": \"pie\"}], \"scatter\": [{\"marker\": {\"colorbar\": {\"outlinewidth\": 0, \"ticks\": \"\"}}, \"type\": \"scatter\"}], \"scatter3d\": [{\"line\": {\"colorbar\": {\"outlinewidth\": 0, \"ticks\": \"\"}}, \"marker\": {\"colorbar\": {\"outlinewidth\": 0, \"ticks\": \"\"}}, \"type\": \"scatter3d\"}], \"scattercarpet\": [{\"marker\": {\"colorbar\": {\"outlinewidth\": 0, \"ticks\": \"\"}}, \"type\": \"scattercarpet\"}], \"scattergeo\": [{\"marker\": {\"colorbar\": {\"outlinewidth\": 0, \"ticks\": \"\"}}, \"type\": \"scattergeo\"}], \"scattergl\": [{\"marker\": {\"colorbar\": {\"outlinewidth\": 0, \"ticks\": \"\"}}, \"type\": \"scattergl\"}], \"scattermapbox\": [{\"marker\": {\"colorbar\": {\"outlinewidth\": 0, \"ticks\": \"\"}}, \"type\": \"scattermapbox\"}], \"scatterpolar\": [{\"marker\": {\"colorbar\": {\"outlinewidth\": 0, \"ticks\": \"\"}}, \"type\": \"scatterpolar\"}], \"scatterpolargl\": [{\"marker\": {\"colorbar\": {\"outlinewidth\": 0, \"ticks\": \"\"}}, \"type\": \"scatterpolargl\"}], \"scatterternary\": [{\"marker\": {\"colorbar\": {\"outlinewidth\": 0, \"ticks\": \"\"}}, \"type\": \"scatterternary\"}], \"surface\": [{\"colorbar\": {\"outlinewidth\": 0, \"ticks\": \"\"}, \"colorscale\": [[0.0, \"#0d0887\"], [0.1111111111111111, \"#46039f\"], [0.2222222222222222, \"#7201a8\"], [0.3333333333333333, \"#9c179e\"], [0.4444444444444444, \"#bd3786\"], [0.5555555555555556, \"#d8576b\"], [0.6666666666666666, \"#ed7953\"], [0.7777777777777778, \"#fb9f3a\"], [0.8888888888888888, \"#fdca26\"], [1.0, \"#f0f921\"]], \"type\": \"surface\"}], \"table\": [{\"cells\": {\"fill\": {\"color\": \"#EBF0F8\"}, \"line\": {\"color\": \"white\"}}, \"header\": {\"fill\": {\"color\": \"#C8D4E3\"}, \"line\": {\"color\": \"white\"}}, \"type\": \"table\"}]}, \"layout\": {\"annotationdefaults\": {\"arrowcolor\": \"#2a3f5f\", \"arrowhead\": 0, \"arrowwidth\": 1}, \"coloraxis\": {\"colorbar\": {\"outlinewidth\": 0, \"ticks\": \"\"}}, \"colorscale\": {\"diverging\": [[0, \"#8e0152\"], [0.1, \"#c51b7d\"], [0.2, \"#de77ae\"], [0.3, \"#f1b6da\"], [0.4, \"#fde0ef\"], [0.5, \"#f7f7f7\"], [0.6, \"#e6f5d0\"], [0.7, \"#b8e186\"], [0.8, \"#7fbc41\"], [0.9, \"#4d9221\"], [1, \"#276419\"]], \"sequential\": [[0.0, \"#0d0887\"], [0.1111111111111111, \"#46039f\"], [0.2222222222222222, \"#7201a8\"], [0.3333333333333333, \"#9c179e\"], [0.4444444444444444, \"#bd3786\"], [0.5555555555555556, \"#d8576b\"], [0.6666666666666666, \"#ed7953\"], [0.7777777777777778, \"#fb9f3a\"], [0.8888888888888888, \"#fdca26\"], [1.0, \"#f0f921\"]], \"sequentialminus\": [[0.0, \"#0d0887\"], [0.1111111111111111, \"#46039f\"], [0.2222222222222222, \"#7201a8\"], [0.3333333333333333, \"#9c179e\"], [0.4444444444444444, \"#bd3786\"], [0.5555555555555556, \"#d8576b\"], [0.6666666666666666, \"#ed7953\"], [0.7777777777777778, \"#fb9f3a\"], [0.8888888888888888, \"#fdca26\"], [1.0, \"#f0f921\"]]}, \"colorway\": [\"#636efa\", \"#EF553B\", \"#00cc96\", \"#ab63fa\", \"#FFA15A\", \"#19d3f3\", \"#FF6692\", \"#B6E880\", \"#FF97FF\", \"#FECB52\"], \"font\": {\"color\": \"#2a3f5f\"}, \"geo\": {\"bgcolor\": \"white\", \"lakecolor\": \"white\", \"landcolor\": \"#E5ECF6\", \"showlakes\": true, \"showland\": true, \"subunitcolor\": \"white\"}, \"hoverlabel\": {\"align\": \"left\"}, \"hovermode\": \"closest\", \"mapbox\": {\"style\": \"light\"}, \"paper_bgcolor\": \"white\", \"plot_bgcolor\": \"#E5ECF6\", \"polar\": {\"angularaxis\": {\"gridcolor\": \"white\", \"linecolor\": \"white\", \"ticks\": \"\"}, \"bgcolor\": \"#E5ECF6\", \"radialaxis\": {\"gridcolor\": \"white\", \"linecolor\": \"white\", \"ticks\": \"\"}}, \"scene\": {\"xaxis\": {\"backgroundcolor\": \"#E5ECF6\", \"gridcolor\": \"white\", \"gridwidth\": 2, \"linecolor\": \"white\", \"showbackground\": true, \"ticks\": \"\", \"zerolinecolor\": \"white\"}, \"yaxis\": {\"backgroundcolor\": \"#E5ECF6\", \"gridcolor\": \"white\", \"gridwidth\": 2, \"linecolor\": \"white\", \"showbackground\": true, \"ticks\": \"\", \"zerolinecolor\": \"white\"}, \"zaxis\": {\"backgroundcolor\": \"#E5ECF6\", \"gridcolor\": \"white\", \"gridwidth\": 2, \"linecolor\": \"white\", \"showbackground\": true, \"ticks\": \"\", \"zerolinecolor\": \"white\"}}, \"shapedefaults\": {\"line\": {\"color\": \"#2a3f5f\"}}, \"ternary\": {\"aaxis\": {\"gridcolor\": \"white\", \"linecolor\": \"white\", \"ticks\": \"\"}, \"baxis\": {\"gridcolor\": \"white\", \"linecolor\": \"white\", \"ticks\": \"\"}, \"bgcolor\": \"#E5ECF6\", \"caxis\": {\"gridcolor\": \"white\", \"linecolor\": \"white\", \"ticks\": \"\"}}, \"title\": {\"x\": 0.05}, \"xaxis\": {\"automargin\": true, \"gridcolor\": \"white\", \"linecolor\": \"white\", \"ticks\": \"\", \"title\": {\"standoff\": 15}, \"zerolinecolor\": \"white\", \"zerolinewidth\": 2}, \"yaxis\": {\"automargin\": true, \"gridcolor\": \"white\", \"linecolor\": \"white\", \"ticks\": \"\", \"title\": {\"standoff\": 15}, \"zerolinecolor\": \"white\", \"zerolinewidth\": 2}}}, \"title\": {\"font\": {\"color\": \"#4D5663\"}}, \"xaxis\": {\"gridcolor\": \"#E1E5ED\", \"showgrid\": true, \"tickfont\": {\"color\": \"#4D5663\"}, \"title\": {\"font\": {\"color\": \"#4D5663\"}, \"text\": \"\"}, \"zerolinecolor\": \"#E1E5ED\"}, \"yaxis\": {\"gridcolor\": \"#E1E5ED\", \"showgrid\": true, \"tickfont\": {\"color\": \"#4D5663\"}, \"title\": {\"font\": {\"color\": \"#4D5663\"}, \"text\": \"\"}, \"zerolinecolor\": \"#E1E5ED\"}},\n",
       "                        {\"showLink\": true, \"linkText\": \"Export to plot.ly\", \"plotlyServerURL\": \"https://plot.ly\", \"responsive\": true}\n",
       "                    ).then(function(){\n",
       "                            \n",
       "var gd = document.getElementById('f57a4ca4-4e37-4168-90df-6b1f7d33c0d8');\n",
       "var x = new MutationObserver(function (mutations, observer) {{\n",
       "        var display = window.getComputedStyle(gd).display;\n",
       "        if (!display || display === 'none') {{\n",
       "            console.log([gd, 'removed!']);\n",
       "            Plotly.purge(gd);\n",
       "            observer.disconnect();\n",
       "        }}\n",
       "}});\n",
       "\n",
       "// Listen for the removal of the full notebook cells\n",
       "var notebookContainer = gd.closest('#notebook-container');\n",
       "if (notebookContainer) {{\n",
       "    x.observe(notebookContainer, {childList: true});\n",
       "}}\n",
       "\n",
       "// Listen for the clearing of the current output cell\n",
       "var outputEl = gd.closest('.output');\n",
       "if (outputEl) {{\n",
       "    x.observe(outputEl, {childList: true});\n",
       "}}\n",
       "\n",
       "                        })\n",
       "                };\n",
       "                });\n",
       "            </script>\n",
       "        </div>"
      ]
     },
     "metadata": {},
     "output_type": "display_data"
    }
   ],
   "source": [
    "main(cat)"
   ]
  },
  {
   "cell_type": "code",
   "execution_count": null,
   "metadata": {},
   "outputs": [],
   "source": []
  },
  {
   "cell_type": "code",
   "execution_count": null,
   "metadata": {},
   "outputs": [],
   "source": []
  }
 ],
 "metadata": {
  "kernelspec": {
   "display_name": "Python 3",
   "language": "python",
   "name": "python3"
  },
  "language_info": {
   "codemirror_mode": {
    "name": "ipython",
    "version": 3
   },
   "file_extension": ".py",
   "mimetype": "text/x-python",
   "name": "python",
   "nbconvert_exporter": "python",
   "pygments_lexer": "ipython3",
   "version": "3.7.7"
  }
 },
 "nbformat": 4,
 "nbformat_minor": 4
}
